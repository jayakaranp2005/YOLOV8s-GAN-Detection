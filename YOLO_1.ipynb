{
  "cells": [
    {
      "cell_type": "code",
      "execution_count": null,
      "metadata": {
        "colab": {
          "base_uri": "https://localhost:8080/"
        },
        "id": "RVQi6hd0dl3b",
        "outputId": "7ec9b744-65fd-4a45-b5f9-cae510b365a6"
      },
      "outputs": [],
      "source": [
        "%pip install ultralytics roboflow opencv-python-headless --quiet"
      ]
    },
    {
      "cell_type": "code",
      "execution_count": null,
      "metadata": {
        "colab": {
          "base_uri": "https://localhost:8080/",
          "height": 108
        },
        "id": "U9dGgNVvdyT2",
        "outputId": "5c8a62ea-cfa2-4a37-d27c-3b2029540350"
      },
      "outputs": [],
      "source": [
        "from google.colab import files\n",
        "files.upload()  # Upload your kaggle.json here"
      ]
    },
    {
      "cell_type": "code",
      "execution_count": null,
      "metadata": {
        "id": "Bz5qNA-bd0Oe"
      },
      "outputs": [],
      "source": [
        "%mkdir -p ~/.kaggle\n",
        "%cp kaggle.json ~/.kaggle/\n",
        "%chmod 600 ~/.kaggle/kaggle.json"
      ]
    },
    {
      "cell_type": "code",
      "execution_count": null,
      "metadata": {
        "colab": {
          "base_uri": "https://localhost:8080/"
        },
        "id": "53nPvYyAd2lg",
        "outputId": "158c055e-71fc-471c-8c77-c3f52308c723"
      },
      "outputs": [],
      "source": [
        "%kaggle datasets download -d xhlulu/140k-real-and-fake-faces\n",
        "%unzip -q 140k-real-and-fake-faces.zip -d faces"
      ]
    },
    {
      "cell_type": "code",
      "execution_count": null,
      "metadata": {
        "colab": {
          "base_uri": "https://localhost:8080/"
        },
        "id": "KK5tcuQKoFj1",
        "outputId": "7eacd689-586f-43a7-e4ce-04af79b65cdc"
      },
      "outputs": [],
      "source": [
        "import pandas as pd\n",
        "import os\n",
        "import cv2\n",
        "import shutil\n",
        "\n",
        "def prepare_yolo_from_csv(csv_path, split_name):\n",
        "    # Base path where images are stored\n",
        "    base_path = \"/content/faces/real_vs_fake/real-vs-fake\"\n",
        "\n",
        "    # Read CSV\n",
        "    df = pd.read_csv(csv_path)\n",
        "\n",
        "    # Create output directories for YOLO formatted dataset\n",
        "    out_img_dir = f\"/content/dataset/{split_name}/images\"\n",
        "    out_lbl_dir = f\"/content/dataset/{split_name}/labels\"\n",
        "    os.makedirs(out_img_dir, exist_ok=True)\n",
        "    os.makedirs(out_lbl_dir, exist_ok=True)\n",
        "\n",
        "    # Iterate rows and copy images + create label txt files\n",
        "    for _, row in df.iterrows():\n",
        "        # Full path to image file\n",
        "        image_path = os.path.join(base_path, row['path'])\n",
        "\n",
        "        # Label from CSV (real=1, fake=0), no flipping\n",
        "        label = row['label']\n",
        "\n",
        "        # Just the image filename, e.g. \"31355.jpg\"\n",
        "        filename = os.path.basename(row['path'])\n",
        "\n",
        "        # Destination path for image copy\n",
        "        dst_image_path = os.path.join(out_img_dir, filename)\n",
        "        shutil.copy(image_path, dst_image_path)\n",
        "\n",
        "        # Read image size for YOLO label (not strictly needed here since full image box)\n",
        "        img = cv2.imread(image_path)\n",
        "        h, w = img.shape[:2]\n",
        "\n",
        "        # YOLO format label: class x_center y_center width height (all normalized 0-1)\n",
        "        # Full image box: center = 0.5, 0.5; width=1, height=1\n",
        "        yolo_label = f\"{label} 0.5 0.5 1.0 1.0\\n\"\n",
        "\n",
        "        # Write label file with same filename but .txt extension\n",
        "        label_path = os.path.join(out_lbl_dir, filename.rsplit('.', 1)[0] + \".txt\")\n",
        "        with open(label_path, \"w\") as f:\n",
        "            f.write(yolo_label)\n",
        "\n",
        "    print(f\"Processed {split_name} set: {len(df)} images\")\n",
        "\n",
        "# Run for train, valid, and test splits (update paths if different)\n",
        "prepare_yolo_from_csv(\"/content/faces/train.csv\", \"train\")\n",
        "prepare_yolo_from_csv(\"/content/faces/valid.csv\", \"val\")\n",
        "prepare_yolo_from_csv(\"/content/faces/test.csv\", \"test\")  # if test.csv exists\n"
      ]
    },
    {
      "cell_type": "code",
      "execution_count": null,
      "metadata": {
        "colab": {
          "base_uri": "https://localhost:8080/"
        },
        "id": "7Gq8-nmmmvEO",
        "outputId": "a98265a4-feb0-4165-8b8a-697343128ede"
      },
      "outputs": [],
      "source": [
        "data_yaml = \"\"\"\n",
        "train: /content/dataset/train/images\n",
        "val: /content/dataset/val/images\n",
        "test: /content/dataset/test/images\n",
        "\n",
        "nc: 2\n",
        "names: ['fake', 'real']\n",
        "\"\"\"\n",
        "\n",
        "with open(\"/content/data.yaml\", \"w\") as f:\n",
        "    f.write(data_yaml.strip())\n",
        "\n",
        "\n",
        "from ultralytics import YOLO\n",
        "\n",
        "# Load the YOLOv8s model\n",
        "model = YOLO(\"yolov8s.pt\")\n",
        "\n",
        "# Train the model\n",
        "model.train(\n",
        "    data=\"/content/data.yaml\",\n",
        "    epochs=5,\n",
        "    batch=64,\n",
        "    imgsz=640\n",
        ")\n",
        "\n"
      ]
    },
    {
      "cell_type": "code",
      "execution_count": null,
      "metadata": {
        "colab": {
          "base_uri": "https://localhost:8080/"
        },
        "id": "0rqgXhGrXPLa",
        "outputId": "60a6cccf-dd8a-4a2a-fe24-f24c46cc4f39"
      },
      "outputs": [],
      "source": [
        "from ultralytics import YOLO\n",
        "import os\n",
        "\n",
        "# Load the best trained model\n",
        "best_model_path = \"/content/runs/detect/train/weights/best.pt\"\n",
        "\n",
        "try:\n",
        "    model = YOLO(best_model_path)\n",
        "\n",
        "    # Define the path to your testing images\n",
        "    test_images_path = \"/content/dataset/test/images\"\n",
        "\n",
        "    # Check if the test images directory exists\n",
        "    if os.path.exists(test_images_path):\n",
        "        # Get a list of all image files in the directory\n",
        "        image_files = [os.path.join(test_images_path, f) for f in os.listdir(test_images_path) if f.lower().endswith(('.png', '.jpg', '.jpeg'))]\n",
        "\n",
        "        # Select the first 50 image paths\n",
        "        top_50_images = image_files[:50]\n",
        "\n",
        "        if top_50_images:\n",
        "            # Run prediction on the top 50 images\n",
        "            results = model.predict(source=top_50_images, save=True) # Set save=True to save predicted images\n",
        "\n",
        "            print(f\"Predictions completed for the top 50 images. Results are saved in the 'predict' folder within your runs directory (e.g., /content/runs/detect/predict).\")\n",
        "\n",
        "            # Iterate through the results and display image ID (filename)\n",
        "            for i, r in enumerate(results):\n",
        "                # Get the original image path that corresponds to this result\n",
        "                original_image_path = top_50_images[i]\n",
        "                image_filename = os.path.basename(original_image_path)\n",
        "\n",
        "                print(f\"\\n--- Predictions for Image: {image_filename} ---\")\n",
        "                # Access and print details from the Results object 'r'\n",
        "                # For example, to print bounding boxes:\n",
        "                # print(r.boxes)\n",
        "                # You can also display the predicted image if you saved it\n",
        "                # (by setting save=True in model.predict)\n",
        "                # The saved image will be in the 'predict' folder\n",
        "                # The path can be inferred based on the original image path and predict folder structure\n",
        "\n",
        "        else:\n",
        "            print(f\"No image files found in {test_images_path}\")\n",
        "\n",
        "    else:\n",
        "        print(f\"Error: Test images directory not found at {test_images_path}\")\n",
        "        print(\"Please ensure the path to your test images is correct.\")\n",
        "\n",
        "except FileNotFoundError:\n",
        "    print(f\"Error: Model file not found at {best_model_path}\")\n",
        "    print(\"Please ensure the training completed successfully and the path to the best model is correct.\")"
      ]
    },
    {
      "cell_type": "code",
      "execution_count": null,
      "metadata": {
        "colab": {
          "base_uri": "https://localhost:8080/",
          "height": 301
        },
        "id": "FlTa7XkuXgNx",
        "outputId": "67de3f3b-698a-45ca-9ba6-35f224659086"
      },
      "outputs": [],
      "source": [
        "# prompt: code to predict for the img=age we give as input\n",
        "\n",
        "# Use files.upload() to upload the image you want to predict on\n",
        "print(\"Please upload the image you want to predict on:\")\n",
        "uploaded_image = files.upload()\n",
        "\n",
        "# Assuming you upload only one file, get its filename\n",
        "image_filename = list(uploaded_image.keys())[0]\n",
        "uploaded_image_path = f\"/content/{image_filename}\"\n",
        "\n",
        "# Check if the best model exists before attempting prediction\n",
        "best_model_path = \"/content/runs/detect/train/weights/best.pt\"\n",
        "\n",
        "if os.path.exists(best_model_path):\n",
        "    try:\n",
        "        # Load the trained model\n",
        "        model = YOLO(best_model_path)\n",
        "\n",
        "        # Run prediction on the uploaded image\n",
        "        results = model.predict(source=uploaded_image_path, save=True, save_txt=True) # save=True saves predicted image with boxes, save_txt=True saves labels\n",
        "\n",
        "        print(f\"\\n--- Prediction for Uploaded Image: {image_filename} ---\")\n",
        "        print(f\"Prediction results saved in '/content/runs/detect/predict'.\")\n",
        "\n",
        "        # You can optionally iterate through the results to print prediction details\n",
        "        for r in results:\n",
        "            print(\"Bounding Boxes and Confidence Scores:\")\n",
        "            # Iterate through detected boxes in the result object\n",
        "            for box in r.boxes:\n",
        "                cls = int(box.cls) # Class index\n",
        "                conf = box.conf.item() # Confidence score\n",
        "                # Get the class name from the model's names attribute\n",
        "                class_name = model.names[cls]\n",
        "                print(f\"  Class: {class_name}, Confidence: {conf:.2f}\")\n",
        "\n",
        "    except Exception as e:\n",
        "        print(f\"An error occurred during prediction: {e}\")\n",
        "\n",
        "else:\n",
        "    print(f\"Error: Model file not found at {best_model_path}\")\n",
        "    print(\"Please ensure the training completed successfully and the path to the best model is correct.\")"
      ]
    }
  ],
  "metadata": {
    "accelerator": "GPU",
    "colab": {
      "gpuType": "T4",
      "provenance": []
    },
    "kernelspec": {
      "display_name": "Python 3",
      "name": "python3"
    },
    "language_info": {
      "name": "python"
    }
  },
  "nbformat": 4,
  "nbformat_minor": 0
}
